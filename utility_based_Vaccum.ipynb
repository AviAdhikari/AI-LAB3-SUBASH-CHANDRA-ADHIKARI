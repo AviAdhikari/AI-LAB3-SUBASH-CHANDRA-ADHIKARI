{
  "nbformat": 4,
  "nbformat_minor": 0,
  "metadata": {
    "colab": {
      "provenance": [],
      "authorship_tag": "ABX9TyNRh3K94rojAN9OOnkpbmz1",
      "include_colab_link": true
    },
    "kernelspec": {
      "name": "python3",
      "display_name": "Python 3"
    },
    "language_info": {
      "name": "python"
    }
  },
  "cells": [
    {
      "cell_type": "markdown",
      "metadata": {
        "id": "view-in-github",
        "colab_type": "text"
      },
      "source": [
        "<a href=\"https://colab.research.google.com/github/AviAdhikari/AI-LAB3-SUBASH-CHANDRA-ADHIKARI/blob/main/utility_based_Vaccum.ipynb\" target=\"_parent\"><img src=\"https://colab.research.google.com/assets/colab-badge.svg\" alt=\"Open In Colab\"/></a>"
      ]
    },
    {
      "cell_type": "code",
      "execution_count": null,
      "metadata": {
        "id": "tM06hEyrfdbA"
      },
      "outputs": [],
      "source": [
        "import random\n",
        "\n",
        "ROWS = 8\n",
        "COLS = 8\n",
        "\n",
        "class Environment:\n",
        "    def __init__(self):\n",
        "        self.grid = [['dirty' if random.random() < 0.3 else 'clean' for _ in range(COLS)] for _ in range(ROWS)]\n",
        "\n",
        "    def is_dirty(self, x, y):\n",
        "        return self.grid[x][y] == 'dirty'\n",
        "\n",
        "    def clean(self, x, y):\n",
        "        self.grid[x][y] = 'clean'\n",
        "\n",
        "    def display(self):\n",
        "        for row in self.grid:\n",
        "            print(\" | \".join(row))\n",
        "        print()\n",
        "\n",
        "    def any_dirty_left(self):\n",
        "        return any('dirty' in row for row in self.grid)\n",
        "\n",
        "\n",
        "class UtilityBasedVacuumAgent:\n",
        "    def __init__(self, env):\n",
        "        self.env = env\n",
        "        self.x = 0\n",
        "        self.y = 0\n",
        "\n",
        "    def utility(self, x, y):\n",
        "        \"\"\"Higher utility for dirty tiles that are closer.\"\"\"\n",
        "        distance = abs(self.x - x) + abs(self.y - y)\n",
        "        if self.env.is_dirty(x, y):\n",
        "            return 100 - distance  # prioritize dirty tiles closer to agent\n",
        "        return -1  # no utility for clean tiles\n",
        "\n",
        "    def find_best_tile(self):\n",
        "        best_score = -1\n",
        "        best_pos = None\n",
        "        for i in range(ROWS):\n",
        "            for j in range(COLS):\n",
        "                score = self.utility(i, j)\n",
        "                if score > best_score:\n",
        "                    best_score = score\n",
        "                    best_pos = (i, j)\n",
        "        return best_pos\n",
        "\n",
        "    def move_to(self, x, y):\n",
        "        print(f\"Moving from ({self.x},{self.y}) to ({x},{y})\")\n",
        "        self.x = x\n",
        "        self.y = y\n",
        "\n",
        "    def clean(self):\n",
        "        if self.env.is_dirty(self.x, self.y):\n",
        "            print(f\"Cleaning ({self.x},{self.y})\")\n",
        "            self.env.clean(self.x, self.y)\n",
        "        else:\n",
        "            print(f\"({self.x},{self.y}) already clean.\")\n",
        "\n",
        "    def run(self):\n",
        "        while self.env.any_dirty_left():\n",
        "            target = self.find_best_tile()\n",
        "            if target:\n",
        "                self.move_to(*target)\n",
        "                self.clean()\n",
        "            else:\n",
        "                break\n",
        "\n",
        "\n",
        "env = Environment()\n",
        "agent = UtilityBasedVacuumAgent(env)\n",
        "\n",
        "print(\"Initial Environment:\")\n",
        "env.display()\n",
        "\n",
        "agent.run()\n",
        "\n",
        "print(\"Final Environment:\")\n",
        "env.display()\n"
      ]
    }
  ]
}